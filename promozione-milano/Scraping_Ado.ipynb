{
 "cells": [
  {
   "cell_type": "markdown",
   "id": "4ba9d188",
   "metadata": {},
   "source": [
    "# Scraping Ado\n",
    "\n",
    "This script shows how to scrape data from [LombardiaCanestro](https://lombardia.italiacanestro.it/). In this case, scrape the **Promozione - Girone E League**. Here the list of all Teams:\n",
    "\n",
    "* [Aurora Trezzo](https://lombardia.italiacanestro.it/Maschile/Squadra?id=42&tid=482).\n",
    "* [Posal Sesto San Giovanni](https://lombardia.italiacanestro.it/Maschile/Squadra?id=42&tid=483).\n",
    "* [Ado San Benedetto Milano](https://lombardia.italiacanestro.it/Maschile/Squadra?id=42&tid=484).\n",
    "* [CGB Brugherio](https://lombardia.italiacanestro.it/Maschile/Squadra?id=42&tid=485).\n",
    "* [Azzurri Niguardese](https://lombardia.italiacanestro.it/Maschile/Squadra?id=42&tid=486).\n",
    "* [Pallacanestro Carugate](https://lombardia.italiacanestro.it/Maschile/Squadra?id=42&tid=487).\n",
    "* [CBBA Olimpia Cologno](https://lombardia.italiacanestro.it/Maschile/Squadra?id=42&tid=488).\n",
    "* [Cesano Seveso](https://lombardia.italiacanestro.it/Maschile/Squadra?id=42&tid=489).\n",
    "* [Inzago Basket](https://lombardia.italiacanestro.it/Maschile/Squadra?id=42&tid=490).\n",
    "* [OSAL Novate](https://lombardia.italiacanestro.it/Maschile/Squadra?id=42&tid=491).\n",
    "* [Basket Ajaccio 1988](https://lombardia.italiacanestro.it/Maschile/Squadra?id=42&tid=492).\n",
    "* [Social OSA](https://lombardia.italiacanestro.it/Maschile/Squadra?id=42&tid=493).\n",
    "* [Basket San Rocco 2013 Seregno](https://lombardia.italiacanestro.it/Maschile/Squadra?id=42&tid=494).\n",
    "* [Ciesse Freebasket Milano](https://lombardia.italiacanestro.it/Maschile/Squadra?id=42&tid=495).\n",
    "* [ACLI Trecella](https://lombardia.italiacanestro.it/Maschile/Squadra?id=42&tid=496)."
   ]
  },
  {
   "cell_type": "markdown",
   "id": "9a63e19e",
   "metadata": {},
   "source": [
    "## R Script\n",
    "\n",
    "The following cells shows the scrape script from the LombardiaCanestro Site. Scrape data:\n",
    "\n",
    "* *All games*, with this link: `https://lombardia.italiacanestro.it/Maschile/Partita?id=`***`<id_game>`***\n",
    "* *Standings*, with this link: `https://lombardia.italiacanestro.it/Maschile/Calendario?id=`***`42`***\n",
    "* *Rosters*, with this link: `https://lombardia.italiacanestro.it/Maschile/Roster?id=`***`42`***"
   ]
  },
  {
   "cell_type": "markdown",
   "id": "d7027ee6",
   "metadata": {},
   "source": [
    "### Libraries\n",
    "\n",
    "Used libraries:\n",
    "\n",
    "* `rvest`.\n",
    "* `lubridate`.\n",
    "* `xml2`.\n",
    "* `dplyr`.\n",
    "* `stringr`.\n",
    "* `plotly`."
   ]
  },
  {
   "cell_type": "code",
   "execution_count": 1,
   "id": "958f32f0",
   "metadata": {},
   "outputs": [],
   "source": [
    "%load_ext rpy2.ipython"
   ]
  },
  {
   "cell_type": "code",
   "execution_count": 2,
   "id": "b0f072dc",
   "metadata": {
    "collapsed": true,
    "jupyter": {
     "outputs_hidden": true
    }
   },
   "outputs": [
    {
     "name": "stderr",
     "output_type": "stream",
     "text": [
      "R[write to console]: Loading required package: rvest\n",
      "\n",
      "R[write to console]: Loading required package: lubridate\n",
      "\n",
      "\u001b[0;1;31mSystem has not been booted with systemd as init system (PID 1). Can't operate.\u001b[0m\n",
      "\u001b[0;1;31mFailed to create bus connection: Host is down\u001b[0m\n",
      "R[write to console]: \n",
      "Attaching package: ‘lubridate’\n",
      "\n",
      "\n",
      "R[write to console]: The following objects are masked from ‘package:base’:\n",
      "\n",
      "    date, intersect, setdiff, union\n",
      "\n",
      "\n",
      "R[write to console]: Loading required package: xml2\n",
      "\n",
      "R[write to console]: Loading required package: dplyr\n",
      "\n",
      "R[write to console]: \n",
      "Attaching package: ‘dplyr’\n",
      "\n",
      "\n",
      "R[write to console]: The following objects are masked from ‘package:stats’:\n",
      "\n",
      "    filter, lag\n",
      "\n",
      "\n",
      "R[write to console]: The following objects are masked from ‘package:base’:\n",
      "\n",
      "    intersect, setdiff, setequal, union\n",
      "\n",
      "\n",
      "R[write to console]: Loading required package: stringr\n",
      "\n",
      "R[write to console]: Loading required package: plotly\n",
      "\n",
      "R[write to console]: Loading required package: ggplot2\n",
      "\n",
      "R[write to console]: \n",
      "Attaching package: ‘plotly’\n",
      "\n",
      "\n",
      "R[write to console]: The following object is masked from ‘package:ggplot2’:\n",
      "\n",
      "    last_plot\n",
      "\n",
      "\n",
      "R[write to console]: The following object is masked from ‘package:stats’:\n",
      "\n",
      "    filter\n",
      "\n",
      "\n",
      "R[write to console]: The following object is masked from ‘package:graphics’:\n",
      "\n",
      "    layout\n",
      "\n",
      "\n"
     ]
    },
    {
     "name": "stdout",
     "output_type": "stream",
     "text": [
      "    rvest lubridate      xml2     dplyr   stringr    plotly \n",
      "     TRUE      TRUE      TRUE      TRUE      TRUE      TRUE \n"
     ]
    }
   ],
   "source": [
    "%%R\n",
    "\n",
    "#-- The function ipak takes in input a list of packages and automatically\n",
    "#-- detect if a package is not installed, otherwise load it. It returns a \n",
    "#-- prompt of loaded packages\n",
    "\n",
    "ipak <- function(package) {\n",
    "  new_package <- package[!(package %in% installed.packages()[, \"Package\"])]\n",
    "  \n",
    "  if (length(new_package)) {\n",
    "    install.packages(new_package,\n",
    "                     dependencies = TRUE\n",
    "    )\n",
    "  }\n",
    "  sapply(package, require,\n",
    "         character.only = TRUE\n",
    "  )\n",
    "}\n",
    "\n",
    "ipak(c(\"rvest\", \"lubridate\", \"xml2\", \n",
    "     \"dplyr\", \"stringr\", \"plotly\"))"
   ]
  },
  {
   "cell_type": "markdown",
   "id": "4e6db204",
   "metadata": {},
   "source": [
    "### Games Scraping\n",
    "\n",
    "<!-- Inserire cosa fa la funzione -->"
   ]
  },
  {
   "cell_type": "code",
   "execution_count": 3,
   "id": "cd92a6a2",
   "metadata": {},
   "outputs": [],
   "source": [
    "%%R\n",
    "\n",
    "#-- Funzione di Scraping ----\n",
    "scraping_table <- function(id_game_html){\n",
    "\n",
    "    all_games <- NULL\n",
    "    all_scores <- NULL\n",
    "\n",
    "    for (game in id_game_html){\n",
    "\n",
    "      print(game)\n",
    "      html <- try(read_html(paste0(\n",
    "                        \"https://lombardia.italiacanestro.it/Maschile/Partita?id=\",\n",
    "                          game)), TRUE)\n",
    "\n",
    "      ifelse(grepl(\"Error\", html[1]) == TRUE, next, \"corretto\")\n",
    "\n",
    "      #-- Data Manipulation --\n",
    "\n",
    "      #-- First Scraping Table (with no manipulation)\n",
    "      raw_table <- rvest::html_nodes(html, \"table\")[2] %>%\n",
    "                        rvest::html_table(fill = TRUE) %>%\n",
    "                        as.data.frame()\n",
    "\n",
    "      team_list  <- na.omit(unique(ifelse(raw_table$X2 == 'PTS', str_to_title(raw_table$X1), NA)))[1:2]\n",
    "      blank_flag <- as.integer(row.names(raw_table)) < as.integer(row.names(subset(raw_table, X1 == \"\")))[1]\n",
    "\n",
    "      temp_table <- raw_table %>%\n",
    "                    mutate(squadra    = ifelse(blank_flag, team_list[1], team_list[2]), \n",
    "                           avversario = ifelse(blank_flag, team_list[2], team_list[1]),\n",
    "                           partita    = ifelse(blank_flag, \"C\", \"T\"),\n",
    "                           id_gara    = game) %>%\n",
    "                    filter(!str_detect(X2, 'PTS'))\n",
    "\n",
    "      temp_table <- temp_table[!apply(is.na(temp_table) | temp_table == \"\", 1, any),]\n",
    "\n",
    "      colnames(temp_table) <- c(\"giocatore\", \"punti_totali\", \"tiri_liberi\",\n",
    "                                \"due_punti\", \"tre_punti\", \"squadra\",\n",
    "                                \"avversario\", \"partita\",\"id_gara\")\n",
    "\n",
    "      temp_table <- temp_table %>%\n",
    "                    mutate(giocatore = str_to_title(giocatore))\n",
    "        \n",
    "      ifelse(temp_table$giocatore == 'Tabellino non disponibile',\n",
    "                 next,\n",
    "                 all_games <- dplyr::bind_rows(all_games, temp_table))\n",
    "        \n",
    "    }\n",
    "      return(all_games)\n",
    "}"
   ]
  },
  {
   "cell_type": "code",
   "execution_count": 4,
   "id": "18ffb2ca",
   "metadata": {},
   "outputs": [
    {
     "name": "stdout",
     "output_type": "stream",
     "text": [
      "[1] 5508\n",
      "[1] 5509\n",
      "[1] 5510\n",
      "[1] 5511\n",
      "[1] 5512\n",
      "[1] 5513\n",
      "[1] 5514\n",
      "[1] 5515\n",
      "[1] 5516\n",
      "[1] 5517\n",
      "[1] 5518\n",
      "[1] 5519\n",
      "[1] 5520\n",
      "[1] 5521\n",
      "[1] 5522\n",
      "[1] 5523\n",
      "[1] 5524\n",
      "[1] 5525\n",
      "[1] 5526\n",
      "[1] 5527\n",
      "[1] 5528\n",
      "[1] 5529\n",
      "[1] 5530\n",
      "[1] 5531\n",
      "[1] 5532\n",
      "[1] 5533\n",
      "[1] 5534\n",
      "[1] 5535\n",
      "[1] 5536\n",
      "[1] 5537\n",
      "[1] 5538\n",
      "[1] 5539\n",
      "[1] 5540\n",
      "[1] 5541\n",
      "[1] 5542\n",
      "[1] 5543\n",
      "[1] 5544\n",
      "[1] 5545\n",
      "[1] 5546\n",
      "[1] 5547\n",
      "[1] 5548\n",
      "[1] 5549\n",
      "[1] 5550\n",
      "[1] 5551\n",
      "[1] 5552\n",
      "[1] 5553\n",
      "[1] 5554\n",
      "[1] 5555\n",
      "[1] 5556\n",
      "[1] 5557\n",
      "[1] 5558\n",
      "[1] 5559\n",
      "[1] 5560\n",
      "[1] 5561\n"
     ]
    }
   ],
   "source": [
    "%%R\n",
    "\n",
    "all_table <- scraping_table(id_game_html = c(5508:5561))"
   ]
  },
  {
   "cell_type": "markdown",
   "id": "91c7f4d6",
   "metadata": {},
   "source": [
    "### Rosters"
   ]
  },
  {
   "cell_type": "code",
   "execution_count": 5,
   "id": "940df5d3",
   "metadata": {},
   "outputs": [],
   "source": [
    "%%R\n",
    "\n",
    "players_df <- function(id_html){\n",
    "\n",
    "    lv_allPlayersName_df   <- NULL #-- DataFrame to store all Players in the League\n",
    "    \n",
    "    #-- Read the HTML to scrape Players Data\n",
    "    lv_html <- read_html(paste0(\"https://lombardia.italiacanestro.it/Maschile/Roster?id=\",\n",
    "                                id_html))\n",
    "    \n",
    "    #-- Range of Tables (Teams) in the HTML link\n",
    "    lv_lenght_teams <- c(1 : length(rvest::html_nodes(lv_html, \"table\")))\n",
    "    \n",
    "    #-- For each Team, scrape the table\n",
    "    for (team in lv_lenght_teams){\n",
    "        \n",
    "        lv_currentTeam_df <- rvest::html_nodes(lv_html, \"table\")[team]      %>% #-- Select the n table in the HTML\n",
    "                             rvest::html_table(header = 1)                  %>% #-- Set the Header\n",
    "                             .[[1]]                                         %>% #-- Select the first element in the list\n",
    "                             mutate(squadra = str_to_title(colnames(.)[2]))     #-- Add Team Column to identify the Team's player\n",
    "        \n",
    "        colnames(lv_currentTeam_df) <- c(\"numero\", \"giocatore\", \"squadra\")      #-- Rename the DataFrame Columns\n",
    "        \n",
    "        lv_currentTeam_df <- lv_currentTeam_df %>%\n",
    "                             mutate(giocatore = str_to_title(giocatore))        #-- Set the Players name to Title\n",
    "        \n",
    "        lv_allPlayersName_df <- dplyr::bind_rows(lv_allPlayersName_df,          #-- Concatenate all extracted Table\n",
    "                                                 lv_currentTeam_df)             #-- into One\n",
    "    }\n",
    "    \n",
    "    #-- Return the Players DataFrame\n",
    "    return(lv_allPlayersName_df)\n",
    "}"
   ]
  },
  {
   "cell_type": "code",
   "execution_count": 6,
   "id": "91472c9b",
   "metadata": {},
   "outputs": [],
   "source": [
    "%%R\n",
    "\n",
    "allPlayersName <- players_df(id_html = \"42\")"
   ]
  },
  {
   "cell_type": "markdown",
   "id": "a3601e10",
   "metadata": {},
   "source": [
    "### Standings"
   ]
  },
  {
   "cell_type": "code",
   "execution_count": 7,
   "id": "e615aa14",
   "metadata": {},
   "outputs": [],
   "source": [
    "%%R\n",
    "\n",
    "standing_df <- function(id_html){\n",
    "    \n",
    "    #-- Read the HTML to scrape Players Data\n",
    "    lv_html <- read_html(paste0(\"https://lombardia.italiacanestro.it/Maschile/Calendario?id=\",\n",
    "                                id_html))\n",
    "    \n",
    "    lv_standings_df <- rvest::html_nodes(lv_html, \"table\")           %>% #-- Select the standing table in the HTML\n",
    "                       rvest::html_table(header = 1)                 %>% #-- Set the Header\n",
    "                       .[[2]]                                        %>% #-- Select the second element in the list\n",
    "                       mutate(CLASSIFICA = str_to_title(CLASSIFICA))     #-- Set the Teams name to Title\n",
    "    \n",
    "    colnames(lv_standings_df) <- c(\"posizione\", \"squadra\",   \"punti\",       \"partite_giocate\",\n",
    "                                    \"vittorie\",  \"sconfitte\", \"punti_fatti\", \"punti_subiti\")\n",
    " \n",
    "    return(lv_standings_df)\n",
    "}"
   ]
  },
  {
   "cell_type": "code",
   "execution_count": 8,
   "id": "d8675c68",
   "metadata": {},
   "outputs": [],
   "source": [
    "%%R\n",
    "\n",
    "allStanding <- standing_df(id_html = \"42\")"
   ]
  },
  {
   "cell_type": "markdown",
   "id": "a4cd2211",
   "metadata": {},
   "source": [
    "## Python\n",
    "\n",
    "<!-- Usato Python per caricare i dati in Celonis tramite le API in Python -->"
   ]
  },
  {
   "cell_type": "markdown",
   "id": "31b9ab05",
   "metadata": {},
   "source": [
    "### Libraries\n",
    "\n",
    "Used libraries:\n",
    "\n",
    "* `pandas`.\n",
    "* `pycelonis`."
   ]
  },
  {
   "cell_type": "code",
   "execution_count": 10,
   "id": "bcc71109",
   "metadata": {},
   "outputs": [],
   "source": [
    "import pandas as pd\n",
    "from pycelonis import get_celonis\n",
    "\n",
    "celonis = get_celonis(\n",
    "    base_url = \"alberto-filosa-protiviti-it.training.celonis.cloud\",\n",
    "    api_token = \"NzQ4Mzg3YjctNzkzNy00ZTFhLWE5ZTUtN2Y5NDk0MGVhYWJiOnlHK2xYb3NKRHpwTitGU053NUxOT2ZDZFZOUllKaXNsNWlUeGFwVnJ0UTc3\",\n",
    "    key_type = 'USER_KEY'\n",
    ")"
   ]
  },
  {
   "cell_type": "markdown",
   "id": "51fcbf3c",
   "metadata": {},
   "source": [
    "### Load R DataFrames\n",
    "\n",
    "Here the code to pass DataFrames from R to Python."
   ]
  },
  {
   "cell_type": "code",
   "execution_count": 11,
   "id": "9c3252da",
   "metadata": {},
   "outputs": [],
   "source": [
    "%R -o all_table -o allStanding -o allPlayersName"
   ]
  },
  {
   "cell_type": "markdown",
   "id": "cd36abe8",
   "metadata": {},
   "source": [
    "### Upload to Celonis\n",
    "\n",
    "| DataFrame Name   | SQL Table Name   |\n",
    "|------------------|------------------|\n",
    "| `all_table`      | `DATA_GAMES`     |\n",
    "| `allStanding`    | `DATA_STANDINGS` |\n",
    "| `allPlayersName` | `PLAYERS_NAME`   |"
   ]
  },
  {
   "cell_type": "code",
   "execution_count": 12,
   "id": "3a877e9b",
   "metadata": {},
   "outputs": [],
   "source": [
    "data_pool  = celonis.data_integration.get_data_pools().find(\"Get Data into the EMS Training - P2P\")\n",
    "data_model = data_pool.get_data_models().find(\"Data Games - Data Model\")\n",
    "data_job   = data_pool.get_jobs().find(\"Global Data Jobs\")"
   ]
  },
  {
   "cell_type": "code",
   "execution_count": 17,
   "id": "ecd6f1f8",
   "metadata": {},
   "outputs": [],
   "source": [
    "dataFrameList_ls = [all_table, allStanding, allPlayersName]\n",
    "sqlTableList_ls  = [\"DATA_GAMES\", \"DATA_STANDINGS\", \"PLAYERS_NAME\"]"
   ]
  },
  {
   "cell_type": "code",
   "execution_count": 19,
   "id": "26338999",
   "metadata": {},
   "outputs": [
    {
     "data": {
      "text/plain": [
       "[             giocatore punti_totali tiri_liberi due_punti tre_punti  \\\n",
       " 1          Negretto S.           20           3         7         1   \n",
       " 2         Angiolini F.            8           4         2         0   \n",
       " 3           Vignati R.            7           3         2         0   \n",
       " 4           Manzini G.            6           0         3         0   \n",
       " 5              Nava S.            6           2         2         0   \n",
       " ...                ...          ...         ...       ...       ...   \n",
       " 1171       Gaeta Marco            2           2         0         0   \n",
       " 1172      Rossi Iacopo            2           0         1         0   \n",
       " 1173    Angst Gabriele            2           0         1         0   \n",
       " 1174   Gianelli Andrea            0           0         0         0   \n",
       " 1175  Sedazzari Mattia            0           0         0         0   \n",
       " \n",
       "                        squadra           avversario partita  id_gara  \n",
       " 1     Posal Sesto San Giovanni           Social Osa       C     5508  \n",
       " 2     Posal Sesto San Giovanni           Social Osa       C     5508  \n",
       " 3     Posal Sesto San Giovanni           Social Osa       C     5508  \n",
       " 4     Posal Sesto San Giovanni           Social Osa       C     5508  \n",
       " 5     Posal Sesto San Giovanni           Social Osa       C     5508  \n",
       " ...                        ...                  ...     ...      ...  \n",
       " 1171  Ciesse Freebasket Milano  Basket Ajaccio 1988       T     5561  \n",
       " 1172  Ciesse Freebasket Milano  Basket Ajaccio 1988       T     5561  \n",
       " 1173  Ciesse Freebasket Milano  Basket Ajaccio 1988       T     5561  \n",
       " 1174  Ciesse Freebasket Milano  Basket Ajaccio 1988       T     5561  \n",
       " 1175  Ciesse Freebasket Milano  Basket Ajaccio 1988       T     5561  \n",
       " \n",
       " [1175 rows x 9 columns],\n",
       "     posizione                        squadra  punti  partite_giocate  \\\n",
       " 1           1       Posal Sesto San Giovanni     30               19   \n",
       " 2           2                  Pall.carugate     30               18   \n",
       " 3           3                  Cgb Brugherio     28               19   \n",
       " 4           4                  Acli Trecella     28               18   \n",
       " 5           5           Cbba Olimpia Cologno     28               19   \n",
       " 6           6             Azzurri Niguardese     26               18   \n",
       " 7           7                  Inzago Basket     18               19   \n",
       " 8           8                  Cesano Seveso     16               18   \n",
       " 9           9       Ado San Benedetto Milano     16               18   \n",
       " 10         10            Basket Ajaccio 1988     16               19   \n",
       " 11         11       Ciesse Freebasket Milano     14               18   \n",
       " 12         12  Basket San Rocco 2013 Seregno     14               19   \n",
       " 13         13                     Social Osa     12               19   \n",
       " 14         14                  Aurora Trezzo      2               18   \n",
       " 15         15                    Osal Novate      0               19   \n",
       " \n",
       "     vittorie  sconfitte  punti_fatti  punti_subiti  \n",
       " 1         15          4         1367          1186  \n",
       " 2         15          3         1331          1027  \n",
       " 3         14          5         1221          1097  \n",
       " 4         14          4         1305          1030  \n",
       " 5         14          5         1309          1160  \n",
       " 6         13          5         1191           972  \n",
       " 7          9         10         1168          1130  \n",
       " 8          8         10         1085          1048  \n",
       " 9          8         10         1027          1052  \n",
       " 10         8         11         1175          1226  \n",
       " 11         7         11         1011          1118  \n",
       " 12         7         12         1150          1232  \n",
       " 13         6         13         1090          1200  \n",
       " 14         1         17          895          1232  \n",
       " 15         0         19          948          1563  ,\n",
       "     numero          giocatore        squadra\n",
       " 1      #00       Bassi Andrea  Acli Trecella\n",
       " 2       #3        Battaioni /  Acli Trecella\n",
       " 3       #9   Bazzoli Riccardo  Acli Trecella\n",
       " 4       #4           Biffi M.  Acli Trecella\n",
       " 5       #8  Bonazzoli Stefano  Acli Trecella\n",
       " ..     ...                ...            ...\n",
       " 281    #61          Ruozzi A.     Social Osa\n",
       " 282    #85        Scaletti A.     Social Osa\n",
       " 283    #50       Silvestri P.     Social Osa\n",
       " 284    #38        Sturlesi N.     Social Osa\n",
       " 285     #3         Varisco M.     Social Osa\n",
       " \n",
       " [285 rows x 3 columns]]"
      ]
     },
     "execution_count": 19,
     "metadata": {},
     "output_type": "execute_result"
    }
   ],
   "source": [
    "dataFrameList_ls"
   ]
  },
  {
   "cell_type": "code",
   "execution_count": 21,
   "id": "2b4b7ff0",
   "metadata": {},
   "outputs": [
    {
     "name": "stdout",
     "output_type": "stream",
     "text": [
      "Uploading of the DATA_GAMES Table from Python to Celonis: \n",
      "\n"
     ]
    },
    {
     "name": "stderr",
     "output_type": "stream",
     "text": [
      "STRING columns are by default stored as VARCHAR(80) and therefore cut after 80 characters. You can specify a custom field length for each column using the `column_config` parameter.\n",
      "100%|██████████| 1/1 [00:00<00:00,  2.99it/s]\n",
      "11it [00:20,  1.89s/it, Status: DONE]  \n"
     ]
    },
    {
     "name": "stdout",
     "output_type": "stream",
     "text": [
      "Upload of the Table Completed!\n",
      "_____________________________________________ \n",
      " \n",
      "\n",
      "Uploading of the DATA_STANDINGS Table from Python to Celonis: \n",
      "\n"
     ]
    },
    {
     "name": "stderr",
     "output_type": "stream",
     "text": [
      "STRING columns are by default stored as VARCHAR(80) and therefore cut after 80 characters. You can specify a custom field length for each column using the `column_config` parameter.\n",
      "100%|██████████| 1/1 [00:00<00:00,  3.17it/s]\n",
      "15it [00:29,  1.95s/it, Status: DONE]  \n"
     ]
    },
    {
     "name": "stdout",
     "output_type": "stream",
     "text": [
      "Upload of the Table Completed!\n",
      "_____________________________________________ \n",
      " \n",
      "\n",
      "Uploading of the PLAYERS_NAME Table from Python to Celonis: \n",
      "\n"
     ]
    },
    {
     "name": "stderr",
     "output_type": "stream",
     "text": [
      "STRING columns are by default stored as VARCHAR(80) and therefore cut after 80 characters. You can specify a custom field length for each column using the `column_config` parameter.\n",
      "100%|██████████| 1/1 [00:00<00:00,  3.59it/s]\n",
      "7it [00:12,  1.82s/it, Status: DONE]  \n"
     ]
    },
    {
     "name": "stdout",
     "output_type": "stream",
     "text": [
      "Upload of the Table Completed!\n",
      "_____________________________________________ \n",
      " \n",
      "\n"
     ]
    }
   ],
   "source": [
    "for dataFrame, sqlTable in zip(range(len(dataFrameList_ls)), range(len(sqlTableList_ls))):\n",
    "    \n",
    "    print(f\"Uploading of the {sqlTableList_ls[sqlTable]} Table from Python to Celonis: \\n\")\n",
    "    \n",
    "    data_pool.create_table(table_name     = sqlTableList_ls[sqlTable],\n",
    "                           df             = dataFrameList_ls[dataFrame],\n",
    "                           drop_if_exists = True,\n",
    "                           force          = True)\n",
    "    \n",
    "    print(\"Upload of the Table Completed!\")\n",
    "    print(\"_\" * 45, \"\\n \\n\")"
   ]
  },
  {
   "cell_type": "code",
   "execution_count": 22,
   "id": "614d50fb",
   "metadata": {},
   "outputs": [
    {
     "name": "stderr",
     "output_type": "stream",
     "text": [
      "2it [00:02,  1.08s/it, Status: SUCCESS]\n"
     ]
    }
   ],
   "source": [
    "data_job.execute()"
   ]
  },
  {
   "cell_type": "code",
   "execution_count": 23,
   "id": "abe207f8",
   "metadata": {},
   "outputs": [
    {
     "name": "stderr",
     "output_type": "stream",
     "text": [
      "6it [00:11,  1.94s/it, Status: ERROR The Data Model Load experienced an issue exporting from the Pool Provider. Celonis Support ID: ce402999-6efd-4dae-99ec-7592f3a6e58d]\n"
     ]
    },
    {
     "ename": "PyCelonisReloadFailedError",
     "evalue": "ERROR The Data Model Load experienced an issue exporting from the Pool Provider. Celonis Support ID: ce402999-6efd-4dae-99ec-7592f3a6e58d",
     "output_type": "error",
     "traceback": [
      "\u001b[0;31m---------------------------------------------------------------------------\u001b[0m",
      "\u001b[0;31mPyCelonisReloadFailedError\u001b[0m                Traceback (most recent call last)",
      "\u001b[1;32m/home/alberto/Git/basket-report/promozione-milano/Scraping_Ado.ipynb Cella 26\u001b[0m in \u001b[0;36m1\n\u001b[0;32m----> <a href='vscode-notebook-cell://wsl%2Bubuntu/home/alberto/Git/basket-report/promozione-milano/Scraping_Ado.ipynb#X33sdnNjb2RlLXJlbW90ZQ%3D%3D?line=0'>1</a>\u001b[0m data_model\u001b[39m.\u001b[39;49mreload()\n",
      "File \u001b[0;32m~/.local/lib/python3.8/site-packages/pycelonis/ems/data_integration/data_model.py:140\u001b[0m, in \u001b[0;36mDataModel.reload\u001b[0;34m(self, force_complete, wait)\u001b[0m\n\u001b[1;32m    128\u001b[0m \u001b[39mdef\u001b[39;00m \u001b[39mreload\u001b[39m(\u001b[39mself\u001b[39m, force_complete: \u001b[39mbool\u001b[39m \u001b[39m=\u001b[39m \u001b[39mTrue\u001b[39;00m, wait: \u001b[39mbool\u001b[39m \u001b[39m=\u001b[39m \u001b[39mTrue\u001b[39;00m) \u001b[39m-\u001b[39m\u001b[39m>\u001b[39m \u001b[39mNone\u001b[39;00m:\n\u001b[1;32m    129\u001b[0m     \u001b[39m\"\"\"Reloads given data model.\u001b[39;00m\n\u001b[1;32m    130\u001b[0m \n\u001b[1;32m    131\u001b[0m \u001b[39m    Args:\u001b[39;00m\n\u001b[0;32m   (...)\u001b[0m\n\u001b[1;32m    138\u001b[0m \u001b[39m        PyCelonisReloadFailedError: Data model reload failed. Only triggered if `wait=True`.\u001b[39;00m\n\u001b[1;32m    139\u001b[0m \u001b[39m    \"\"\"\u001b[39;00m\n\u001b[0;32m--> 140\u001b[0m     \u001b[39mself\u001b[39;49m\u001b[39m.\u001b[39;49m_reload(partial\u001b[39m=\u001b[39;49m\u001b[39mFalse\u001b[39;49;00m, wait\u001b[39m=\u001b[39;49mwait, force_complete\u001b[39m=\u001b[39;49mforce_complete)\n",
      "File \u001b[0;32m~/.local/lib/python3.8/site-packages/pycelonis/ems/data_integration/data_model.py:170\u001b[0m, in \u001b[0;36mDataModel._reload\u001b[0;34m(self, partial, wait, data_model_table_ids, **kwargs)\u001b[0m\n\u001b[1;32m    168\u001b[0m \u001b[39mif\u001b[39;00m wait:\n\u001b[1;32m    169\u001b[0m     \u001b[39mself\u001b[39m\u001b[39m.\u001b[39m_wait_for_reload()\n\u001b[0;32m--> 170\u001b[0m     \u001b[39mself\u001b[39;49m\u001b[39m.\u001b[39;49m_verify_load_successful()\n",
      "File \u001b[0;32m~/.local/lib/python3.8/site-packages/pycelonis/ems/data_integration/data_model.py:224\u001b[0m, in \u001b[0;36mDataModel._verify_load_successful\u001b[0;34m(self)\u001b[0m\n\u001b[1;32m    219\u001b[0m current_compute_load \u001b[39m=\u001b[39m \u001b[39mself\u001b[39m\u001b[39m.\u001b[39m_get_current_compute_load()\n\u001b[1;32m    220\u001b[0m \u001b[39mif\u001b[39;00m current_compute_load \u001b[39mand\u001b[39;00m current_compute_load\u001b[39m.\u001b[39mload_status \u001b[39mnot\u001b[39;00m \u001b[39min\u001b[39;00m [\n\u001b[1;32m    221\u001b[0m     DataModelLoadStatus\u001b[39m.\u001b[39mSUCCESS,\n\u001b[1;32m    222\u001b[0m     DataModelLoadStatus\u001b[39m.\u001b[39mWARNING,\n\u001b[1;32m    223\u001b[0m ]:\n\u001b[0;32m--> 224\u001b[0m     \u001b[39mraise\u001b[39;00m PyCelonisReloadFailedError(current_compute_load\u001b[39m.\u001b[39mload_status, current_compute_load\u001b[39m.\u001b[39mmessage)\n\u001b[1;32m    226\u001b[0m \u001b[39mif\u001b[39;00m current_compute_load \u001b[39mand\u001b[39;00m current_compute_load\u001b[39m.\u001b[39mload_status \u001b[39m==\u001b[39m DataModelLoadStatus\u001b[39m.\u001b[39mWARNING:\n\u001b[1;32m    227\u001b[0m     logger\u001b[39m.\u001b[39mwarning(\u001b[39m\"\u001b[39m\u001b[39m%s\u001b[39;00m\u001b[39m: \u001b[39m\u001b[39m%s\u001b[39;00m\u001b[39m\"\u001b[39m, current_compute_load\u001b[39m.\u001b[39mload_status\u001b[39m.\u001b[39mvalue, current_compute_load\u001b[39m.\u001b[39mmessage)\n",
      "\u001b[0;31mPyCelonisReloadFailedError\u001b[0m: ERROR The Data Model Load experienced an issue exporting from the Pool Provider. Celonis Support ID: ce402999-6efd-4dae-99ec-7592f3a6e58d"
     ]
    }
   ],
   "source": [
    "data_model.reload()"
   ]
  },
  {
   "cell_type": "markdown",
   "id": "768660c7",
   "metadata": {},
   "source": [
    "To Do:\n",
    "\n",
    "* Load the Activity\n",
    "* Load the Data Model"
   ]
  },
  {
   "cell_type": "markdown",
   "id": "922029cf",
   "metadata": {},
   "source": [
    "## Other\n",
    "\n",
    "RIP all part of this code :(\n",
    "\n",
    "```python\n",
    "\n",
    "#-- Create Connection with Data Pool \n",
    "data_pool = celonis.data_integration.get_data_pools().find(\"Get Data into the EMS Training - P2P\")\n",
    "\n",
    "#-- Push of All Games Tables\n",
    "data_pool.create_table(table_name     = \"DATA_GAMES\",\n",
    "                       df             = all_table,\n",
    "                       drop_if_exists = True,\n",
    "                       force          = True)\n",
    "\n",
    "#-- Push of Standing Table\n",
    "data_pool.create_table(table_name     = \"DATA_STANDINGS\",\n",
    "                       df             = allStanding,\n",
    "                       drop_if_exists = True,\n",
    "                       force          = True)\n",
    "\n",
    "#-- Push of All Master Data Player Tables\n",
    "data_pool.create_table(table_name     = \"PLAYERS_NAME\",\n",
    "                       df             = allPlayersName,\n",
    "                       drop_if_exists = True,\n",
    "                       force          = True)\n",
    "```"
   ]
  },
  {
   "cell_type": "markdown",
   "id": "46f287f9",
   "metadata": {},
   "source": [
    "```r\n",
    "\n",
    "#-- OLD\n",
    "#-- Funzione di Scraping ----\n",
    "scraping_table <- function(id_game_html){\n",
    "\n",
    "    all_games <- NULL\n",
    "    all_scores <- NULL\n",
    "\n",
    "    for (game in id_game_html){\n",
    "\n",
    "      print(game)\n",
    "      html <- try(read_html(paste0(\n",
    "                        \"https://lombardiacanestro.it/Maschile/Tabellino?idgame=\",\n",
    "                          game)), TRUE)\n",
    "\n",
    "      ifelse(grepl(\"Error\", html[1]) == TRUE, next, \"corretto\")\n",
    "\n",
    "      for (tables in seq(1,3,1)){\n",
    "\n",
    "        if (tables == 1){\n",
    "\n",
    "          name_teams <- rvest::html_nodes(html, \"table\")[tables] %>%\n",
    "                        rvest::html_table(fill = TRUE) %>%\n",
    "                        as.data.frame() %>%\n",
    "                         .[2:3,1]\n",
    "\n",
    "        } else {\n",
    "\n",
    "          ifelse(tables == 3, name_teams[c(1,2)] <- name_teams[c(2,1)], NA)\n",
    "\n",
    "          temp_table <- rvest::html_nodes(html, \"table\")[tables] %>%\n",
    "                        rvest::html_table(fill = TRUE) %>% as.data.frame() %>%\n",
    "                        dplyr::mutate(squadra = str_to_title(name_teams[1]),\n",
    "                                      avversario = str_to_title(name_teams[2]),\n",
    "                                      partita = ifelse(tables == 2, \"C\", \"T\"),\n",
    "                                      id_gara = game)\n",
    "\n",
    "          colnames(temp_table) <- c(\"giocatore\", \"tiri_liberi\", \"due_punti\",\n",
    "                                    \"tre_punti\", \"punti_totali\", \"squadra\",\n",
    "                                    \"avversario\", \"partita\",\"id_gara\")\n",
    "\n",
    "          ifelse(temp_table$giocatore == 'Tabellino non disponibile',\n",
    "                 next,\n",
    "                 all_games <- dplyr::bind_rows(all_games, temp_table))\n",
    "\n",
    "\n",
    "        }\n",
    "\n",
    "      }\n",
    "\n",
    "    }\n",
    "\n",
    "      return(all_games)\n",
    "}\n",
    "```"
   ]
  }
 ],
 "metadata": {
  "kernelspec": {
   "display_name": "Python 3",
   "language": "python",
   "name": "python3"
  },
  "language_info": {
   "codemirror_mode": {
    "name": "ipython",
    "version": 3
   },
   "file_extension": ".py",
   "mimetype": "text/x-python",
   "name": "python",
   "nbconvert_exporter": "python",
   "pygments_lexer": "ipython3",
   "version": "3.8.10"
  },
  "toc-autonumbering": false,
  "toc-showcode": false,
  "toc-showmarkdowntxt": true,
  "toc-showtags": false
 },
 "nbformat": 4,
 "nbformat_minor": 5
}
