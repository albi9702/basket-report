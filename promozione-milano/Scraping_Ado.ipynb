{
 "cells": [
  {
   "cell_type": "markdown",
   "id": "4ba9d188",
   "metadata": {},
   "source": [
    "# Scraping Ado\n",
    "\n",
    "This script shows how to scrape data from [LombardiaCanestro](https://lombardia.italiacanestro.it/). In this case, scrape the **Promozione - Girone E League**. Here the list of all Teams:\n",
    "\n",
    "* [Aurora Trezzo](https://lombardia.italiacanestro.it/Maschile/Squadra?id=42&tid=482).\n",
    "* [Posal Sesto San Giovanni](https://lombardia.italiacanestro.it/Maschile/Squadra?id=42&tid=483).\n",
    "* [Ado San Benedetto Milano](https://lombardia.italiacanestro.it/Maschile/Squadra?id=42&tid=484).\n",
    "* [CGB Brugherio](https://lombardia.italiacanestro.it/Maschile/Squadra?id=42&tid=485).\n",
    "* [Azzurri Niguardese](https://lombardia.italiacanestro.it/Maschile/Squadra?id=42&tid=486).\n",
    "* [Pallacanestro Carugate](https://lombardia.italiacanestro.it/Maschile/Squadra?id=42&tid=487).\n",
    "* [CBBA Olimpia Cologno](https://lombardia.italiacanestro.it/Maschile/Squadra?id=42&tid=488).\n",
    "* [Cesano Seveso](https://lombardia.italiacanestro.it/Maschile/Squadra?id=42&tid=489).\n",
    "* [Inzago Basket](https://lombardia.italiacanestro.it/Maschile/Squadra?id=42&tid=490).\n",
    "* [OSAL Novate](https://lombardia.italiacanestro.it/Maschile/Squadra?id=42&tid=491).\n",
    "* [Basket Ajaccio 1988](https://lombardia.italiacanestro.it/Maschile/Squadra?id=42&tid=492).\n",
    "* [Social OSA](https://lombardia.italiacanestro.it/Maschile/Squadra?id=42&tid=493).\n",
    "* [Basket San Rocco 2013 Seregno](https://lombardia.italiacanestro.it/Maschile/Squadra?id=42&tid=494).\n",
    "* [Ciesse Freebasket Milano](https://lombardia.italiacanestro.it/Maschile/Squadra?id=42&tid=495).\n",
    "* [ACLI Trecella](https://lombardia.italiacanestro.it/Maschile/Squadra?id=42&tid=496)."
   ]
  },
  {
   "cell_type": "markdown",
   "id": "9a63e19e",
   "metadata": {},
   "source": [
    "## R Script\n",
    "\n",
    "The following cells shows the scrape script from the LombardiaCanestro Site. Scrape data:\n",
    "\n",
    "* *All games*, with this link: `https://lombardia.italiacanestro.it/Maschile/Partita?id=`***`<id_game>`***\n",
    "* *Standings*, with this link: `https://lombardia.italiacanestro.it/Maschile/Calendario?id=`***`42`***\n",
    "* *Rosters*, with this link: `https://lombardia.italiacanestro.it/Maschile/Roster?id=`***`42`***"
   ]
  },
  {
   "cell_type": "markdown",
   "id": "d7027ee6",
   "metadata": {},
   "source": [
    "### Libraries\n",
    "\n",
    "Used libraries:\n",
    "\n",
    "* `rvest`.\n",
    "* `lubridate`.\n",
    "* `xml2`.\n",
    "* `dplyr`.\n",
    "* `stringr`.\n",
    "* `plotly`."
   ]
  },
  {
   "cell_type": "code",
   "execution_count": 1,
   "id": "958f32f0",
   "metadata": {},
   "outputs": [
    {
     "name": "stderr",
     "output_type": "stream",
     "text": [
      "/home/jovyan/.local/lib/python3.8/site-packages/pandas/core/computation/expressions.py:20: UserWarning: Pandas requires version '2.7.3' or newer of 'numexpr' (version '2.7.2' currently installed).\n",
      "  from pandas.core.computation.check import NUMEXPR_INSTALLED\n"
     ]
    }
   ],
   "source": [
    "%load_ext rpy2.ipython"
   ]
  },
  {
   "cell_type": "code",
   "execution_count": 2,
   "id": "b0f072dc",
   "metadata": {
    "collapsed": true,
    "jupyter": {
     "outputs_hidden": true
    }
   },
   "outputs": [
    {
     "name": "stderr",
     "output_type": "stream",
     "text": [
      "R[write to console]: Loading required package: rvest\n",
      "\n",
      "R[write to console]: Loading required package: lubridate\n",
      "\n",
      "\u001b[0;1;31mSystem has not been booted with systemd as init system (PID 1). Can't operate.\u001b[0m\n",
      "\u001b[0;1;31mFailed to create bus connection: Host is down\u001b[0m\n",
      "R[write to console]: \n",
      "Attaching package: ‘lubridate’\n",
      "\n",
      "\n",
      "R[write to console]: The following objects are masked from ‘package:base’:\n",
      "\n",
      "    date, intersect, setdiff, union\n",
      "\n",
      "\n",
      "R[write to console]: Loading required package: xml2\n",
      "\n",
      "R[write to console]: Loading required package: dplyr\n",
      "\n",
      "R[write to console]: \n",
      "Attaching package: ‘dplyr’\n",
      "\n",
      "\n",
      "R[write to console]: The following objects are masked from ‘package:stats’:\n",
      "\n",
      "    filter, lag\n",
      "\n",
      "\n",
      "R[write to console]: The following objects are masked from ‘package:base’:\n",
      "\n",
      "    intersect, setdiff, setequal, union\n",
      "\n",
      "\n",
      "R[write to console]: Loading required package: stringr\n",
      "\n",
      "R[write to console]: Loading required package: plotly\n",
      "\n",
      "R[write to console]: Loading required package: ggplot2\n",
      "\n",
      "R[write to console]: \n",
      "Attaching package: ‘plotly’\n",
      "\n",
      "\n",
      "R[write to console]: The following object is masked from ‘package:ggplot2’:\n",
      "\n",
      "    last_plot\n",
      "\n",
      "\n",
      "R[write to console]: The following object is masked from ‘package:stats’:\n",
      "\n",
      "    filter\n",
      "\n",
      "\n",
      "R[write to console]: The following object is masked from ‘package:graphics’:\n",
      "\n",
      "    layout\n",
      "\n",
      "\n"
     ]
    },
    {
     "name": "stdout",
     "output_type": "stream",
     "text": [
      "    rvest lubridate      xml2     dplyr   stringr    plotly \n",
      "     TRUE      TRUE      TRUE      TRUE      TRUE      TRUE \n"
     ]
    }
   ],
   "source": [
    "%%R\n",
    "\n",
    "#-- The function ipak takes in input a list of packages and automatically\n",
    "#-- detect if a package is not installed, otherwise load it. It returns a \n",
    "#-- prompt of loaded packages\n",
    "\n",
    "ipak <- function(package) {\n",
    "  new_package <- package[!(package %in% installed.packages()[, \"Package\"])]\n",
    "  \n",
    "  if (length(new_package)) {\n",
    "    install.packages(new_package,\n",
    "                     dependencies = TRUE\n",
    "    )\n",
    "  }\n",
    "  sapply(package, require,\n",
    "         character.only = TRUE\n",
    "  )\n",
    "}\n",
    "\n",
    "ipak(c(\"rvest\", \"lubridate\", \"xml2\", \n",
    "     \"dplyr\", \"stringr\", \"plotly\"))"
   ]
  },
  {
   "cell_type": "markdown",
   "id": "4e6db204",
   "metadata": {},
   "source": [
    "### Games Scraping\n",
    "\n",
    "<!-- Inserire cosa fa la funzione -->"
   ]
  },
  {
   "cell_type": "code",
   "execution_count": 105,
   "id": "cd92a6a2",
   "metadata": {},
   "outputs": [],
   "source": [
    "%%R\n",
    "\n",
    "#-- Funzione di Scraping ----\n",
    "scraping_table <- function(id_game_html){\n",
    "\n",
    "    all_games <- NULL\n",
    "    all_scores <- NULL\n",
    "\n",
    "    for (game in id_game_html){\n",
    "\n",
    "      print(game)\n",
    "      html <- try(read_html(paste0(\n",
    "                        \"https://lombardia.italiacanestro.it/Maschile/Partita?id=\",\n",
    "                          game)), TRUE)\n",
    "\n",
    "      ifelse(grepl(\"Error\", html[1]) == TRUE, next, \"corretto\")\n",
    "\n",
    "      #-- Data Manipulation --\n",
    "\n",
    "      #-- First Scraping Table (with no manipulation)\n",
    "      raw_table <- rvest::html_nodes(html, \"table\")[2] %>%\n",
    "                        rvest::html_table(fill = TRUE) %>%\n",
    "                        as.data.frame()\n",
    "\n",
    "      team_list  <- na.omit(unique(ifelse(raw_table$X2 == 'PTS', str_to_title(raw_table$X1), NA)))[1:2]\n",
    "      blank_flag <- as.integer(row.names(raw_table)) < as.integer(row.names(subset(raw_table, X1 == \"\")))[1]\n",
    "\n",
    "      temp_table <- raw_table %>%\n",
    "                    mutate(squadra    = ifelse(blank_flag, team_list[1], team_list[2]), \n",
    "                           avversario = ifelse(blank_flag, team_list[2], team_list[1]),\n",
    "                           partita    = ifelse(blank_flag, \"C\", \"T\"),\n",
    "                           id_gara    = game) %>%\n",
    "                    filter(!str_detect(X2, 'PTS'))\n",
    "\n",
    "      temp_table <- temp_table[!apply(is.na(temp_table) | temp_table == \"\", 1, any),]\n",
    "\n",
    "      colnames(temp_table) <- c(\"giocatore\", \"punti_totali\", \"tiri_liberi\",\n",
    "                                \"due_punti\", \"tre_punti\", \"squadra\",\n",
    "                                \"avversario\", \"partita\",\"id_gara\")\n",
    "\n",
    "      temp_table <- temp_table %>%\n",
    "                    mutate(giocatore = str_to_title(giocatore))\n",
    "        \n",
    "      ifelse(temp_table$giocatore == 'Tabellino non disponibile',\n",
    "                 next,\n",
    "                 all_games <- dplyr::bind_rows(all_games, temp_table))\n",
    "        \n",
    "    }\n",
    "      return(all_games)\n",
    "}"
   ]
  },
  {
   "cell_type": "code",
   "execution_count": 106,
   "id": "18ffb2ca",
   "metadata": {},
   "outputs": [
    {
     "name": "stdout",
     "output_type": "stream",
     "text": [
      "[1] 5508\n",
      "[1] 5509\n",
      "[1] 5510\n",
      "[1] 5511\n",
      "[1] 5512\n",
      "[1] 5513\n",
      "[1] 5514\n",
      "[1] 5515\n",
      "[1] 5516\n",
      "[1] 5517\n",
      "[1] 5518\n",
      "[1] 5519\n",
      "[1] 5520\n",
      "[1] 5521\n",
      "[1] 5522\n",
      "[1] 5523\n",
      "[1] 5524\n",
      "[1] 5525\n",
      "[1] 5526\n",
      "[1] 5527\n",
      "[1] 5528\n",
      "[1] 5529\n",
      "[1] 5530\n",
      "[1] 5531\n",
      "[1] 5532\n",
      "[1] 5533\n",
      "[1] 5534\n",
      "[1] 5535\n",
      "[1] 5536\n",
      "[1] 5537\n",
      "[1] 5538\n",
      "[1] 5539\n",
      "[1] 5540\n",
      "[1] 5541\n",
      "[1] 5542\n",
      "[1] 5543\n",
      "[1] 5544\n",
      "[1] 5545\n",
      "[1] 5546\n",
      "[1] 5547\n",
      "[1] 5548\n",
      "[1] 5549\n",
      "[1] 5550\n",
      "[1] 5551\n",
      "[1] 5552\n",
      "[1] 5553\n",
      "[1] 5554\n",
      "[1] 5555\n",
      "[1] 5556\n",
      "[1] 5557\n",
      "[1] 5558\n",
      "[1] 5559\n",
      "[1] 5560\n",
      "[1] 5561\n"
     ]
    }
   ],
   "source": [
    "%%R\n",
    "\n",
    "all_table <- scraping_table(id_game_html = c(5508:5561))"
   ]
  },
  {
   "cell_type": "markdown",
   "id": "91c7f4d6",
   "metadata": {},
   "source": [
    "### Rosters"
   ]
  },
  {
   "cell_type": "code",
   "execution_count": 10,
   "id": "940df5d3",
   "metadata": {},
   "outputs": [],
   "source": [
    "%%R\n",
    "\n",
    "players_df <- function(id_html){\n",
    "\n",
    "    lv_allPlayersName_df   <- NULL #-- DataFrame to store all Players in the League\n",
    "    \n",
    "    #-- Read the HTML to scrape Players Data\n",
    "    lv_html <- read_html(paste0(\"https://lombardia.italiacanestro.it/Maschile/Roster?id=\",\n",
    "                                id_html))\n",
    "    \n",
    "    #-- Range of Tables (Teams) in the HTML link\n",
    "    lv_lenght_teams <- c(1 : length(rvest::html_nodes(lv_html, \"table\")))\n",
    "    \n",
    "    #-- For each Team, scrape the table\n",
    "    for (team in lv_lenght_teams){\n",
    "        \n",
    "        lv_currentTeam_df <- rvest::html_nodes(lv_html, \"table\")[team]      %>% #-- Select the n table in the HTML\n",
    "                             rvest::html_table(header = 1)                  %>% #-- Set the Header\n",
    "                             .[[1]]                                         %>% #-- Select the first element in the list\n",
    "                             mutate(squadra = str_to_title(colnames(.)[2]))     #-- Add Team Column to identify the Team's player\n",
    "        \n",
    "        colnames(lv_currentTeam_df) <- c(\"numero\", \"giocatore\", \"squadra\")      #-- Rename the DataFrame Columns\n",
    "        \n",
    "        lv_currentTeam_df <- lv_currentTeam_df %>%\n",
    "                             mutate(giocatore = str_to_title(giocatore))        #-- Set the Players name to Title\n",
    "        \n",
    "        lv_allPlayersName_df <- dplyr::bind_rows(lv_allPlayersName_df,          #-- Concatenate all extracted Table\n",
    "                                                 lv_currentTeam_df)             #-- into One\n",
    "    }\n",
    "    \n",
    "    #-- Return the Players DataFrame\n",
    "    return(lv_allPlayersName_df)\n",
    "}"
   ]
  },
  {
   "cell_type": "code",
   "execution_count": 11,
   "id": "91472c9b",
   "metadata": {},
   "outputs": [],
   "source": [
    "%%R\n",
    "\n",
    "allPlayersName <- players_df(id_html = \"42\")"
   ]
  },
  {
   "cell_type": "markdown",
   "id": "a3601e10",
   "metadata": {},
   "source": [
    "### Standings"
   ]
  },
  {
   "cell_type": "code",
   "execution_count": 32,
   "id": "e615aa14",
   "metadata": {},
   "outputs": [],
   "source": [
    "%%R\n",
    "\n",
    "standing_df <- function(id_html){\n",
    "    \n",
    "    #-- Read the HTML to scrape Players Data\n",
    "    lv_html <- read_html(paste0(\"https://lombardia.italiacanestro.it/Maschile/Calendario?id=\",\n",
    "                                id_html))\n",
    "    \n",
    "    lv_standings_df <- rvest::html_nodes(lv_html, \"table\")           %>% #-- Select the standing table in the HTML\n",
    "                       rvest::html_table(header = 1)                 %>% #-- Set the Header\n",
    "                       .[[2]]                                        %>% #-- Select the second element in the list\n",
    "                       mutate(CLASSIFICA = str_to_title(CLASSIFICA))     #-- Set the Teams name to Title\n",
    "    \n",
    "    colnames(lv_standings_df) <- c(\"posizione\", \"squadra\",   \"punti\",       \"partite_giocate\",\n",
    "                                    \"vittorie\",  \"sconfitte\", \"punti_fatti\", \"punti_subiti\")\n",
    " \n",
    "    return(lv_standings_df)\n",
    "}"
   ]
  },
  {
   "cell_type": "code",
   "execution_count": 33,
   "id": "d8675c68",
   "metadata": {},
   "outputs": [],
   "source": [
    "%%R\n",
    "\n",
    "allStanding <- standing_df(id_html = \"42\")"
   ]
  },
  {
   "cell_type": "markdown",
   "id": "a4cd2211",
   "metadata": {},
   "source": [
    "## Python\n",
    "\n",
    "<!-- Usato Python per caricare i dati in Celonis tramite le API in Python -->"
   ]
  },
  {
   "cell_type": "markdown",
   "id": "31b9ab05",
   "metadata": {},
   "source": [
    "### Libraries\n",
    "\n",
    "Used libraries:\n",
    "\n",
    "* `pandas`.\n",
    "* `pycelonis`."
   ]
  },
  {
   "cell_type": "code",
   "execution_count": 84,
   "id": "bcc71109",
   "metadata": {},
   "outputs": [
    {
     "name": "stdout",
     "output_type": "stream",
     "text": [
      "[2022-11-25 14:20:58,317] INFO: No `base_url` given. Using environment variable 'CELONIS_URL'\n",
      "[2022-11-25 14:20:58,319] INFO: No `api_token` given. Using environment variable 'CELONIS_API_TOKEN'\n"
     ]
    },
    {
     "name": "stderr",
     "output_type": "stream",
     "text": [
      "[2022-11-25 14:20:58,529] WARNING: KeyType is not set. Defaulted to 'APP_KEY'.\n"
     ]
    },
    {
     "name": "stdout",
     "output_type": "stream",
     "text": [
      "[2022-11-25 14:20:58,595] INFO: Initial connect successful! PyCelonis Version: 2.0.0\n",
      "[2022-11-25 14:20:58,800] INFO: `package-manager` permissions: ['$ACCESS_CHILD']\n",
      "[2022-11-25 14:20:58,801] INFO: `workflows` permissions: []\n",
      "[2022-11-25 14:20:58,801] INFO: `task-mining` permissions: []\n",
      "[2022-11-25 14:20:58,802] INFO: `team` permissions: []\n",
      "[2022-11-25 14:20:58,803] INFO: `action-engine` permissions: []\n",
      "[2022-11-25 14:20:58,805] INFO: `process-repository` permissions: []\n",
      "[2022-11-25 14:20:58,806] INFO: `process-analytics` permissions: []\n",
      "[2022-11-25 14:20:58,807] INFO: `transformation-center` permissions: []\n",
      "[2022-11-25 14:20:58,807] INFO: `storage-manager` permissions: []\n",
      "[2022-11-25 14:20:58,808] INFO: `event-collection` permissions: ['$ACCESS_CHILD']\n",
      "[2022-11-25 14:20:58,809] INFO: `ml-workbench` permissions: []\n",
      "[2022-11-25 14:20:58,810] INFO: `user-provisioning` permissions: []\n"
     ]
    }
   ],
   "source": [
    "import pandas as pd\n",
    "from pycelonis import get_celonis\n",
    "\n",
    "celonis = get_celonis()"
   ]
  },
  {
   "cell_type": "markdown",
   "id": "51fcbf3c",
   "metadata": {},
   "source": [
    "### Load R DataFrames\n",
    "\n",
    "Here the code to pass DataFrames from R to Python."
   ]
  },
  {
   "cell_type": "code",
   "execution_count": 108,
   "id": "9c3252da",
   "metadata": {},
   "outputs": [],
   "source": [
    "%R -o all_table -o allStanding -o allPlayersName"
   ]
  },
  {
   "cell_type": "markdown",
   "id": "cd36abe8",
   "metadata": {},
   "source": [
    "### Upload to Celonis\n",
    "\n",
    "| DataFrame Name   | SQL Table Name   |\n",
    "|------------------|------------------|\n",
    "| `all_table`      | `DATA_GAMES`     |\n",
    "| `allStanding`    | `DATA_STANDINGS` |\n",
    "| `allPlayersName` | `PLAYERS_NAME`   |"
   ]
  },
  {
   "cell_type": "code",
   "execution_count": 109,
   "id": "3a877e9b",
   "metadata": {},
   "outputs": [],
   "source": [
    "data_pool  = celonis.data_integration.get_data_pools().find(\"Get Data into the EMS Training - P2P\")\n",
    "data_model = data_pool.get_data_models().find(\"Data Games - Data Model\")\n",
    "data_job   = data_pool.get_jobs().find(\"Global Data Jobs\")"
   ]
  },
  {
   "cell_type": "code",
   "execution_count": 110,
   "id": "ecd6f1f8",
   "metadata": {},
   "outputs": [],
   "source": [
    "dataFrameList_ls = [all_table, allStanding, allPlayersName]\n",
    "sqlTableList_ls  = [\"DATA_GAMES\", \"DATA_STANDINGS\", \"PLAYERS_NAME\"]"
   ]
  },
  {
   "cell_type": "code",
   "execution_count": null,
   "id": "2b4b7ff0",
   "metadata": {},
   "outputs": [
    {
     "name": "stdout",
     "output_type": "stream",
     "text": [
      "Uploading of the DATA_GAMES Table from Python to Celonis: \n",
      "\n",
      "[2022-11-25 14:59:03,057] INFO: Successfully created data push job with id 'de974797-40ba-4436-8472-aba7a8d702df'\n",
      "[2022-11-25 14:59:03,059] INFO: Add data frame as file chunks to data push job with id 'de974797-40ba-4436-8472-aba7a8d702df'\n"
     ]
    },
    {
     "data": {
      "application/vnd.jupyter.widget-view+json": {
       "model_id": "808451fe9af24646b851355bcbd580be",
       "version_major": 2,
       "version_minor": 0
      },
      "text/plain": [
       "  0%|          | 0/1 [00:00<?, ?it/s]"
      ]
     },
     "metadata": {},
     "output_type": "display_data"
    },
    {
     "name": "stdout",
     "output_type": "stream",
     "text": [
      "[2022-11-25 14:59:03,443] INFO: Successfully upserted file chunk to data push job with id 'de974797-40ba-4436-8472-aba7a8d702df'\n",
      "[2022-11-25 14:59:03,697] INFO: Successfully triggered execution for data push job with id 'de974797-40ba-4436-8472-aba7a8d702df'\n",
      "[2022-11-25 14:59:03,698] INFO: Wait for execution of data push job with id 'de974797-40ba-4436-8472-aba7a8d702df'\n"
     ]
    },
    {
     "data": {
      "application/vnd.jupyter.widget-view+json": {
       "model_id": "61f6da3e53e443d484fab1c14064efa6",
       "version_major": 2,
       "version_minor": 0
      },
      "text/plain": [
       "0it [00:00, ?it/s]"
      ]
     },
     "metadata": {},
     "output_type": "display_data"
    }
   ],
   "source": [
    "for dataFrame, sqlTable in zip(range(len(dataFrameList_ls)), range(len(sqlTableList_ls))):\n",
    "    \n",
    "    print(f\"Uploading of the {sqlTableList_ls[sqlTable]} Table from Python to Celonis: \\n\")\n",
    "    \n",
    "    data_pool.create_table(table_name     = sqlTableList_ls[sqlTable],\n",
    "                           df             = dataFrameList_ls[dataFrame],\n",
    "                           drop_if_exists = True,\n",
    "                           force          = True)\n",
    "    \n",
    "    print(\"Upload of the Table Completed!\")\n",
    "    print(\"_\" * 45, \"\\n \\n\")"
   ]
  },
  {
   "cell_type": "code",
   "execution_count": 86,
   "id": "614d50fb",
   "metadata": {},
   "outputs": [
    {
     "name": "stdout",
     "output_type": "stream",
     "text": [
      "[2022-11-25 14:21:05,821] INFO: Successfully started execution for job with id 'f8728820-91f9-4329-9ed9-434712c681fa'\n",
      "[2022-11-25 14:21:05,822] INFO: Wait for execution of job with id 'f8728820-91f9-4329-9ed9-434712c681fa'\n"
     ]
    },
    {
     "data": {
      "application/vnd.jupyter.widget-view+json": {
       "model_id": "0b00b9b6fb024117a53cc54ffa8f3212",
       "version_major": 2,
       "version_minor": 0
      },
      "text/plain": [
       "0it [00:00, ?it/s]"
      ]
     },
     "metadata": {},
     "output_type": "display_data"
    }
   ],
   "source": [
    "data_job.execute()"
   ]
  },
  {
   "cell_type": "code",
   "execution_count": 87,
   "id": "abe207f8",
   "metadata": {},
   "outputs": [
    {
     "name": "stdout",
     "output_type": "stream",
     "text": [
      "[2022-11-25 14:21:33,468] INFO: Successfully triggered data model reload for data model with id '9ef12f6f-c9a2-4260-8da8-0cda6d99b46b'\n",
      "[2022-11-25 14:21:33,470] INFO: Wait for execution of data model reload for data model with id '9ef12f6f-c9a2-4260-8da8-0cda6d99b46b'\n"
     ]
    },
    {
     "data": {
      "application/vnd.jupyter.widget-view+json": {
       "model_id": "f1d070d7857649afb268dc127b279a8a",
       "version_major": 2,
       "version_minor": 0
      },
      "text/plain": [
       "0it [00:00, ?it/s]"
      ]
     },
     "metadata": {},
     "output_type": "display_data"
    },
    {
     "ename": "PyCelonisReloadFailedError",
     "evalue": "ERROR The load failed: Load failed. Error Message: Could not execute foreign key join: there are duplicates on both sides of the specified key relationship. Table \"DATA_GAMES\": key columns (\"giocatore\", \"squadra\"), key ('Gianotti D.', 'Cesano Seveso'), rows 1 and 2. Table \"PLAYERS_NAME\": key columns (\"giocatore\", \"squadra\"), key ('Digrandi S.', 'Ado San Benedetto Milano'), rows 110 and 126.",
     "output_type": "error",
     "traceback": [
      "\u001b[0;31m---------------------------------------------------------------------------\u001b[0m",
      "\u001b[0;31mPyCelonisReloadFailedError\u001b[0m                Traceback (most recent call last)",
      "Input \u001b[0;32mIn [87]\u001b[0m, in \u001b[0;36m<cell line: 1>\u001b[0;34m()\u001b[0m\n\u001b[0;32m----> 1\u001b[0m \u001b[43mdata_model\u001b[49m\u001b[38;5;241;43m.\u001b[39;49m\u001b[43mreload\u001b[49m\u001b[43m(\u001b[49m\u001b[43m)\u001b[49m\n",
      "File \u001b[0;32m~/.local/lib/python3.8/site-packages/pycelonis/ems/data_integration/data_model.py:135\u001b[0m, in \u001b[0;36mDataModel.reload\u001b[0;34m(self, force_complete, wait)\u001b[0m\n\u001b[1;32m    123\u001b[0m \u001b[38;5;28;01mdef\u001b[39;00m \u001b[38;5;21mreload\u001b[39m(\u001b[38;5;28mself\u001b[39m, force_complete: \u001b[38;5;28mbool\u001b[39m \u001b[38;5;241m=\u001b[39m \u001b[38;5;28;01mTrue\u001b[39;00m, wait: \u001b[38;5;28mbool\u001b[39m \u001b[38;5;241m=\u001b[39m \u001b[38;5;28;01mTrue\u001b[39;00m) \u001b[38;5;241m-\u001b[39m\u001b[38;5;241m>\u001b[39m \u001b[38;5;28;01mNone\u001b[39;00m:\n\u001b[1;32m    124\u001b[0m     \u001b[38;5;124;03m\"\"\"Reloads given data model.\u001b[39;00m\n\u001b[1;32m    125\u001b[0m \n\u001b[1;32m    126\u001b[0m \u001b[38;5;124;03m    Args:\u001b[39;00m\n\u001b[0;32m   (...)\u001b[0m\n\u001b[1;32m    133\u001b[0m \u001b[38;5;124;03m        PyCelonisReloadFailedError: Data model reload failed. Only triggered if `wait=True`.\u001b[39;00m\n\u001b[1;32m    134\u001b[0m \u001b[38;5;124;03m    \"\"\"\u001b[39;00m\n\u001b[0;32m--> 135\u001b[0m     \u001b[38;5;28;43mself\u001b[39;49m\u001b[38;5;241;43m.\u001b[39;49m\u001b[43m_reload\u001b[49m\u001b[43m(\u001b[49m\u001b[43mpartial\u001b[49m\u001b[38;5;241;43m=\u001b[39;49m\u001b[38;5;28;43;01mFalse\u001b[39;49;00m\u001b[43m,\u001b[49m\u001b[43m \u001b[49m\u001b[43mwait\u001b[49m\u001b[38;5;241;43m=\u001b[39;49m\u001b[43mwait\u001b[49m\u001b[43m,\u001b[49m\u001b[43m \u001b[49m\u001b[43mforce_complete\u001b[49m\u001b[38;5;241;43m=\u001b[39;49m\u001b[43mforce_complete\u001b[49m\u001b[43m)\u001b[49m\n",
      "File \u001b[0;32m~/.local/lib/python3.8/site-packages/pycelonis/ems/data_integration/data_model.py:165\u001b[0m, in \u001b[0;36mDataModel._reload\u001b[0;34m(self, partial, wait, data_model_table_ids, **kwargs)\u001b[0m\n\u001b[1;32m    163\u001b[0m \u001b[38;5;28;01mif\u001b[39;00m wait:\n\u001b[1;32m    164\u001b[0m     \u001b[38;5;28mself\u001b[39m\u001b[38;5;241m.\u001b[39m_wait_for_reload()\n\u001b[0;32m--> 165\u001b[0m     \u001b[38;5;28;43mself\u001b[39;49m\u001b[38;5;241;43m.\u001b[39;49m\u001b[43m_verify_load_successful\u001b[49m\u001b[43m(\u001b[49m\u001b[43m)\u001b[49m\n",
      "File \u001b[0;32m~/.local/lib/python3.8/site-packages/pycelonis/ems/data_integration/data_model.py:216\u001b[0m, in \u001b[0;36mDataModel._verify_load_successful\u001b[0;34m(self)\u001b[0m\n\u001b[1;32m    211\u001b[0m current_compute_load \u001b[38;5;241m=\u001b[39m \u001b[38;5;28mself\u001b[39m\u001b[38;5;241m.\u001b[39m_get_current_compute_load()\n\u001b[1;32m    212\u001b[0m \u001b[38;5;28;01mif\u001b[39;00m current_compute_load \u001b[38;5;129;01mand\u001b[39;00m current_compute_load\u001b[38;5;241m.\u001b[39mload_status \u001b[38;5;129;01mnot\u001b[39;00m \u001b[38;5;129;01min\u001b[39;00m [\n\u001b[1;32m    213\u001b[0m     DataModelLoadStatus\u001b[38;5;241m.\u001b[39mSUCCESS,\n\u001b[1;32m    214\u001b[0m     DataModelLoadStatus\u001b[38;5;241m.\u001b[39mWARNING,\n\u001b[1;32m    215\u001b[0m ]:\n\u001b[0;32m--> 216\u001b[0m     \u001b[38;5;28;01mraise\u001b[39;00m PyCelonisReloadFailedError(current_compute_load\u001b[38;5;241m.\u001b[39mload_status, current_compute_load\u001b[38;5;241m.\u001b[39mmessage)\n\u001b[1;32m    218\u001b[0m \u001b[38;5;28;01mif\u001b[39;00m current_compute_load \u001b[38;5;129;01mand\u001b[39;00m current_compute_load\u001b[38;5;241m.\u001b[39mload_status \u001b[38;5;241m==\u001b[39m DataModelLoadStatus\u001b[38;5;241m.\u001b[39mWARNING:\n\u001b[1;32m    219\u001b[0m     logger\u001b[38;5;241m.\u001b[39mwarning(\u001b[38;5;124m\"\u001b[39m\u001b[38;5;132;01m%s\u001b[39;00m\u001b[38;5;124m: \u001b[39m\u001b[38;5;132;01m%s\u001b[39;00m\u001b[38;5;124m\"\u001b[39m, current_compute_load\u001b[38;5;241m.\u001b[39mload_status\u001b[38;5;241m.\u001b[39mvalue, current_compute_load\u001b[38;5;241m.\u001b[39mmessage)\n",
      "\u001b[0;31mPyCelonisReloadFailedError\u001b[0m: ERROR The load failed: Load failed. Error Message: Could not execute foreign key join: there are duplicates on both sides of the specified key relationship. Table \"DATA_GAMES\": key columns (\"giocatore\", \"squadra\"), key ('Gianotti D.', 'Cesano Seveso'), rows 1 and 2. Table \"PLAYERS_NAME\": key columns (\"giocatore\", \"squadra\"), key ('Digrandi S.', 'Ado San Benedetto Milano'), rows 110 and 126."
     ]
    }
   ],
   "source": [
    "data_model.reload()"
   ]
  },
  {
   "cell_type": "markdown",
   "id": "768660c7",
   "metadata": {},
   "source": [
    "To Do:\n",
    "\n",
    "* Load the Activity\n",
    "* Load the Data Model"
   ]
  },
  {
   "cell_type": "markdown",
   "id": "922029cf",
   "metadata": {},
   "source": [
    "## Other\n",
    "\n",
    "RIP all part of this code :(\n",
    "\n",
    "```python\n",
    "\n",
    "#-- Create Connection with Data Pool \n",
    "data_pool = celonis.data_integration.get_data_pools().find(\"Get Data into the EMS Training - P2P\")\n",
    "\n",
    "#-- Push of All Games Tables\n",
    "data_pool.create_table(table_name     = \"DATA_GAMES\",\n",
    "                       df             = all_table,\n",
    "                       drop_if_exists = True,\n",
    "                       force          = True)\n",
    "\n",
    "#-- Push of Standing Table\n",
    "data_pool.create_table(table_name     = \"DATA_STANDINGS\",\n",
    "                       df             = allStanding,\n",
    "                       drop_if_exists = True,\n",
    "                       force          = True)\n",
    "\n",
    "#-- Push of All Master Data Player Tables\n",
    "data_pool.create_table(table_name     = \"PLAYERS_NAME\",\n",
    "                       df             = allPlayersName,\n",
    "                       drop_if_exists = True,\n",
    "                       force          = True)\n",
    "```"
   ]
  },
  {
   "cell_type": "markdown",
   "id": "46f287f9",
   "metadata": {},
   "source": [
    "```r\n",
    "\n",
    "#-- OLD\n",
    "#-- Funzione di Scraping ----\n",
    "scraping_table <- function(id_game_html){\n",
    "\n",
    "    all_games <- NULL\n",
    "    all_scores <- NULL\n",
    "\n",
    "    for (game in id_game_html){\n",
    "\n",
    "      print(game)\n",
    "      html <- try(read_html(paste0(\n",
    "                        \"https://lombardiacanestro.it/Maschile/Tabellino?idgame=\",\n",
    "                          game)), TRUE)\n",
    "\n",
    "      ifelse(grepl(\"Error\", html[1]) == TRUE, next, \"corretto\")\n",
    "\n",
    "      for (tables in seq(1,3,1)){\n",
    "\n",
    "        if (tables == 1){\n",
    "\n",
    "          name_teams <- rvest::html_nodes(html, \"table\")[tables] %>%\n",
    "                        rvest::html_table(fill = TRUE) %>%\n",
    "                        as.data.frame() %>%\n",
    "                         .[2:3,1]\n",
    "\n",
    "        } else {\n",
    "\n",
    "          ifelse(tables == 3, name_teams[c(1,2)] <- name_teams[c(2,1)], NA)\n",
    "\n",
    "          temp_table <- rvest::html_nodes(html, \"table\")[tables] %>%\n",
    "                        rvest::html_table(fill = TRUE) %>% as.data.frame() %>%\n",
    "                        dplyr::mutate(squadra = str_to_title(name_teams[1]),\n",
    "                                      avversario = str_to_title(name_teams[2]),\n",
    "                                      partita = ifelse(tables == 2, \"C\", \"T\"),\n",
    "                                      id_gara = game)\n",
    "\n",
    "          colnames(temp_table) <- c(\"giocatore\", \"tiri_liberi\", \"due_punti\",\n",
    "                                    \"tre_punti\", \"punti_totali\", \"squadra\",\n",
    "                                    \"avversario\", \"partita\",\"id_gara\")\n",
    "\n",
    "          ifelse(temp_table$giocatore == 'Tabellino non disponibile',\n",
    "                 next,\n",
    "                 all_games <- dplyr::bind_rows(all_games, temp_table))\n",
    "\n",
    "\n",
    "        }\n",
    "\n",
    "      }\n",
    "\n",
    "    }\n",
    "\n",
    "      return(all_games)\n",
    "}\n",
    "```"
   ]
  }
 ],
 "metadata": {
  "kernelspec": {
   "display_name": "Python 3 (ipykernel)",
   "language": "python",
   "name": "python3"
  },
  "language_info": {
   "codemirror_mode": {
    "name": "ipython",
    "version": 3
   },
   "file_extension": ".py",
   "mimetype": "text/x-python",
   "name": "python",
   "nbconvert_exporter": "python",
   "pygments_lexer": "ipython3",
   "version": "3.8.6"
  },
  "toc-autonumbering": false,
  "toc-showcode": false,
  "toc-showmarkdowntxt": true,
  "toc-showtags": false
 },
 "nbformat": 4,
 "nbformat_minor": 5
}
